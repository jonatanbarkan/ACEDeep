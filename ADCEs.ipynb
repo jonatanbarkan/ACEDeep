{
  "nbformat": 4,
  "nbformat_minor": 0,
  "metadata": {
    "colab": {
      "name": "ADCEs",
      "provenance": [],
      "collapsed_sections": [
        "vjCXN__JEaKm"
      ],
      "authorship_tag": "ABX9TyPd/egvvzy6TvrFvR+tej10",
      "include_colab_link": true
    },
    "kernelspec": {
      "name": "python3",
      "display_name": "Python 3"
    }
  },
  "cells": [
    {
      "cell_type": "markdown",
      "metadata": {
        "id": "view-in-github",
        "colab_type": "text"
      },
      "source": [
        "<a href=\"https://colab.research.google.com/github/jonatanbarkan/ACEDeep/blob/master/ADCEs.ipynb\" target=\"_parent\"><img src=\"https://colab.research.google.com/assets/colab-badge.svg\" alt=\"Open In Colab\"/></a>"
      ]
    },
    {
      "cell_type": "code",
      "metadata": {
        "id": "f9ue5z29Kcbp",
        "colab_type": "code",
        "colab": {}
      },
      "source": [
        "import numpy as np\n",
        "from scipy.spatial.transform import Rotation\n",
        "import torch\n",
        "import torch.nn as nn\n",
        "import torch.nn.functional as F\n",
        "from torchvision import transforms\n",
        "import matplotlib.pyplot as plt\n",
        "import seaborn as sns\n",
        "from torch.utils.data.dataset import random_split\n",
        "from torch.utils.data import DataLoader\n",
        "from torch.utils.data import Dataset, TensorDataset\n",
        "import tqdm\n",
        "import pandas as pd\n",
        "import matplotlib as mpl\n",
        "from collections import defaultdict\n",
        "\n",
        "# sns.set_style(\"whitegrid\")\n",
        "mpl.rcParams['figure.figsize'] = [12., 8.0]\n"
      ],
      "execution_count": 552,
      "outputs": []
    },
    {
      "cell_type": "code",
      "metadata": {
        "id": "netWCTxvknOS",
        "colab_type": "code",
        "colab": {
          "base_uri": "https://localhost:8080/",
          "height": 34
        },
        "outputId": "81ae7f51-4cbb-4011-af17-6dc7bd06bb22"
      },
      "source": [
        "device = 'cuda:0' if torch.cuda.is_available() else 'cpu'\n",
        "print(device)"
      ],
      "execution_count": 553,
      "outputs": [
        {
          "output_type": "stream",
          "text": [
            "cpu\n"
          ],
          "name": "stdout"
        }
      ]
    },
    {
      "cell_type": "markdown",
      "metadata": {
        "id": "79gwMV5okjmH",
        "colab_type": "text"
      },
      "source": [
        "### Create Samples"
      ]
    },
    {
      "cell_type": "code",
      "metadata": {
        "id": "GFmbQvWuK2wx",
        "colab_type": "code",
        "colab": {}
      },
      "source": [
        "d = 3\n",
        "num_samples = 10000"
      ],
      "execution_count": 554,
      "outputs": []
    },
    {
      "cell_type": "code",
      "metadata": {
        "id": "mmV9lS-MTQQk",
        "colab_type": "code",
        "colab": {}
      },
      "source": [
        "mu = [0]*d\n",
        "cov = np.eye(d)"
      ],
      "execution_count": 555,
      "outputs": []
    },
    {
      "cell_type": "code",
      "metadata": {
        "id": "NRykCgJgYVfZ",
        "colab_type": "code",
        "colab": {}
      },
      "source": [
        "kind = 'hex'\n",
        "# kind = 'scatter'"
      ],
      "execution_count": 556,
      "outputs": []
    },
    {
      "cell_type": "code",
      "metadata": {
        "id": "BX-hDlQYLWHJ",
        "colab_type": "code",
        "colab": {}
      },
      "source": [
        "Z = np.random.multivariate_normal(mu, cov, num_samples)\n",
        "N1 = np.random.multivariate_normal(mu,  cov, num_samples)\n",
        "N2 = np.random.multivariate_normal(mu,  cov, num_samples)"
      ],
      "execution_count": 557,
      "outputs": []
    },
    {
      "cell_type": "code",
      "metadata": {
        "id": "66LIOBOYT-P5",
        "colab_type": "code",
        "colab": {}
      },
      "source": [
        "X_prior = Z + .1 * N1\n",
        "Y_prior = Z + .1 * N2"
      ],
      "execution_count": 558,
      "outputs": []
    },
    {
      "cell_type": "code",
      "metadata": {
        "id": "uHQ9Q17HfcMy",
        "colab_type": "code",
        "colab": {}
      },
      "source": [
        "def draw_correlations(A, B, prnt=True, plot=False):\n",
        "  eziz = []\n",
        "  for i in range(A.shape[-1]):\n",
        "    corr = np.corrcoef(A[:,i], B[:,i])[0,1]\n",
        "    eziz.append(corr)\n",
        "    if prnt:\n",
        "      print(f'correlations {i}th entry: {corr}')\n",
        "    if plot:\n",
        "      sns.jointplot(A[:, i], B[:, i], kind=kind)\n",
        "  return eziz"
      ],
      "execution_count": 559,
      "outputs": []
    },
    {
      "cell_type": "code",
      "metadata": {
        "id": "vhRZzAW0dUTz",
        "colab_type": "code",
        "colab": {
          "base_uri": "https://localhost:8080/",
          "height": 69
        },
        "outputId": "0785b37e-8830-4d31-d5b0-dc055c43e361"
      },
      "source": [
        "t = draw_correlations(X_prior, Y_prior)"
      ],
      "execution_count": 560,
      "outputs": [
        {
          "output_type": "stream",
          "text": [
            "correlations 0th entry: 0.9902320262556052\n",
            "correlations 1th entry: 0.9900786568967288\n",
            "correlations 2th entry: 0.9901781800190351\n"
          ],
          "name": "stdout"
        }
      ]
    },
    {
      "cell_type": "code",
      "metadata": {
        "id": "7GhYqMq4i7rV",
        "colab_type": "code",
        "colab": {}
      },
      "source": [
        "non_linearity = np.exp"
      ],
      "execution_count": 561,
      "outputs": []
    },
    {
      "cell_type": "code",
      "metadata": {
        "id": "cHD4FXmHL2dx",
        "colab_type": "code",
        "colab": {}
      },
      "source": [
        "thetaX = [0] * d\n",
        "thetaX[2] = np.pi/3\n",
        "rot_axis_X = np.array([1, 1, 1])\n",
        "rotX = Rotation.from_rotvec(thetaX * rot_axis_X)\n",
        "X = rotX.apply(non_linearity(X_prior))"
      ],
      "execution_count": 562,
      "outputs": []
    },
    {
      "cell_type": "code",
      "metadata": {
        "id": "JNfN2cgrMGrj",
        "colab_type": "code",
        "colab": {
          "base_uri": "https://localhost:8080/",
          "height": 34
        },
        "outputId": "135d8168-d6b9-4a6c-9385-ecdfb24551c9"
      },
      "source": [
        "print(f'X: mean {np.mean(X, axis=0)}, std {np.std(X, axis=0)}')"
      ],
      "execution_count": 563,
      "outputs": [
        {
          "output_type": "stream",
          "text": [
            "X: mean [-0.59311153  2.26480151  1.60304996], std [2.1216429  2.16526651 2.04103035]\n"
          ],
          "name": "stdout"
        }
      ]
    },
    {
      "cell_type": "code",
      "metadata": {
        "id": "FhM1_5AjOHwR",
        "colab_type": "code",
        "colab": {}
      },
      "source": [
        "thetaY = [0] * d\n",
        "thetaY[0] = -np.pi / 2\n",
        "thetaY[1] = -np.pi / 6\n",
        "rot_axis_Y = np.array([1, 1, 1])\n",
        "rotY = Rotation.from_rotvec(thetaY * rot_axis_Y)\n",
        "Y = rotY.apply(Y_prior)"
      ],
      "execution_count": 564,
      "outputs": []
    },
    {
      "cell_type": "code",
      "metadata": {
        "id": "Cw7-9TmGhFc7",
        "colab_type": "code",
        "colab": {
          "base_uri": "https://localhost:8080/",
          "height": 34
        },
        "outputId": "1bf89d25-0c48-40fb-e9a6-db95f82cf8be"
      },
      "source": [
        "print(f'X: mean {np.mean(Y, axis=0)}, std {np.std(Y, axis=0)}')"
      ],
      "execution_count": 565,
      "outputs": [
        {
          "output_type": "stream",
          "text": [
            "X: mean [ 0.0071089  -0.02621746 -0.00123488], std [1.00895105 1.01416003 1.00064587]\n"
          ],
          "name": "stdout"
        }
      ]
    },
    {
      "cell_type": "markdown",
      "metadata": {
        "id": "m2keO5tsW9t7",
        "colab_type": "text"
      },
      "source": [
        "$X, Y$ are rotations of a linear combination of $Z + \\lambda N1$ and $Z + \\lambda N2$ respectively, where $Z, N1, N2$ each drawn from a multivariate gaussian with 0 mean and unit covariance.\n",
        "$\\lambda=0.1$ and the rotations are different and are performed around different axes."
      ]
    },
    {
      "cell_type": "code",
      "metadata": {
        "id": "n28LTdFmeP_Z",
        "colab_type": "code",
        "colab": {
          "base_uri": "https://localhost:8080/",
          "height": 86
        },
        "outputId": "c7c8b6ad-0198-4ada-9e85-3913dc5a5095"
      },
      "source": [
        "draw_correlations(X,Y)"
      ],
      "execution_count": 566,
      "outputs": [
        {
          "output_type": "stream",
          "text": [
            "correlations 0th entry: 0.12793930511031879\n",
            "correlations 1th entry: 0.2496874896076383\n",
            "correlations 2th entry: -0.04550314215518664\n"
          ],
          "name": "stdout"
        },
        {
          "output_type": "execute_result",
          "data": {
            "text/plain": [
              "[0.12793930511031879, 0.2496874896076383, -0.04550314215518664]"
            ]
          },
          "metadata": {
            "tags": []
          },
          "execution_count": 566
        }
      ]
    },
    {
      "cell_type": "markdown",
      "metadata": {
        "id": "vjCXN__JEaKm",
        "colab_type": "text"
      },
      "source": [
        "### create pytorch model class and train and eval functions"
      ]
    },
    {
      "cell_type": "markdown",
      "metadata": {
        "id": "ULMrblk3EsfV",
        "colab_type": "text"
      },
      "source": [
        "notice there is no normalization at the final output. Normalization is performed with apply_transform function"
      ]
    },
    {
      "cell_type": "code",
      "metadata": {
        "id": "T3jMTC85Zryj",
        "colab_type": "code",
        "colab": {}
      },
      "source": [
        "class Model(nn.Module):\n",
        "  def __init__(self, input_size, hidden_size, output_size, lr=0.01, activation=None):\n",
        "      super(Model, self).__init__()\n",
        "      self.fc1 = nn.Linear(input_size, hidden_size)\n",
        "      # nn.init.xavier_normal_(self.fc1.weight)\n",
        "      self.bn1 = nn.BatchNorm1d(num_features=hidden_size)\n",
        "      self.fc2 = nn.Linear(hidden_size, output_size)\n",
        "      # nn.init.xavier_normal_(self.fc2.weight)\n",
        "      self.bn2 = nn.BatchNorm1d(num_features=output_size, )\n",
        "      \n",
        "      self.learning_rate = lr\n",
        "      self._criterion = nn.MSELoss()\n",
        "      self._optimizer = torch.optim.SGD(self.parameters(), lr=self.learning_rate)\n",
        "      self.activation = activation\n",
        "      \n",
        "  def forward(self, x):\n",
        "      u = self.fc1(x)\n",
        "      u = self.bn1(u)\n",
        "      if self.activation is not None:\n",
        "        u = self.activation(u)\n",
        "      u = self.fc2(u)\n",
        "      return u\n",
        "    \n",
        "  def get_criterion(self):\n",
        "      return self._criterion\n",
        "\n",
        "  def get_optimizer(self):\n",
        "      return self._optimizer\n",
        "  "
      ],
      "execution_count": 567,
      "outputs": []
    },
    {
      "cell_type": "code",
      "metadata": {
        "id": "xMR2ip3L75n1",
        "colab_type": "code",
        "colab": {}
      },
      "source": [
        "class MlpNet(nn.Module):\n",
        "    def __init__(self, layer_sizes, input_size, output_size, lr=0.01, activation=None):\n",
        "        super(MlpNet, self).__init__()\n",
        "        if activation is None:\n",
        "          activation = nn.Identity()\n",
        "        layers = []\n",
        "        layer_sizes = [input_size] + layer_sizes\n",
        "        for l_id in range(len(layer_sizes) - 1):\n",
        "            if l_id == len(layer_sizes) - 2:\n",
        "                layers.append(nn.Sequential(\n",
        "                    nn.BatchNorm1d(num_features=layer_sizes[l_id], affine=False),\n",
        "                    nn.Linear(layer_sizes[l_id], layer_sizes[l_id + 1]),\n",
        "                ))\n",
        "            else:\n",
        "                layers.append(nn.Sequential(\n",
        "                    nn.Linear(layer_sizes[l_id], layer_sizes[l_id + 1]),\n",
        "                    activation(),\n",
        "                    nn.BatchNorm1d(num_features=layer_sizes[l_id + 1], affine=False),\n",
        "                ))\n",
        "        self.layers.append(nn.Sequential(\n",
        "            \n",
        "        ))\n",
        "        self.layers = nn.ModuleList(layers)\n",
        "        self.learning_rate = lr\n",
        "        self._criterion = nn.MSELoss()\n",
        "        self._optimizer = torch.optim.SGD(self.parameters(), lr=self.learning_rate)\n",
        "\n",
        "    def forward(self, x):\n",
        "        for layer in self.layers:\n",
        "            x = layer(x)\n",
        "        return x\n",
        "    \n",
        "    def get_criterion(self):\n",
        "        return self._criterion\n",
        "\n",
        "    def get_optimizer(self):\n",
        "        return self._optimizer"
      ],
      "execution_count": 568,
      "outputs": []
    },
    {
      "cell_type": "code",
      "metadata": {
        "id": "JeKeEAlIAhBv",
        "colab_type": "code",
        "colab": {}
      },
      "source": [
        "def make_train_step(model):\n",
        "    # Builds function that performs a step in the train loop\n",
        "    loss_fn = model.get_criterion()\n",
        "    optimizer = model.get_optimizer()\n",
        "    def train_step(x, y):\n",
        "        # Sets model to TRAIN mode\n",
        "        model.train()\n",
        "        # Makes predictions\n",
        "        yhat = model(x)\n",
        "        # Computes loss\n",
        "        loss = loss_fn(y, yhat)\n",
        "        # Computes gradients\n",
        "        loss.backward()\n",
        "        # Updates parameters and zeroes gradients\n",
        "        optimizer.step()\n",
        "        optimizer.zero_grad()\n",
        "        # Returns the loss\n",
        "        return loss.item()\n",
        "    \n",
        "    # Returns the function that will be called inside the train loop\n",
        "    return train_step"
      ],
      "execution_count": 569,
      "outputs": []
    },
    {
      "cell_type": "code",
      "metadata": {
        "id": "p7azI72bl3SL",
        "colab_type": "code",
        "colab": {}
      },
      "source": [
        "def make_eval_step(model):\n",
        "    # Builds function that performs a step in the train loop\n",
        "    loss_fn = model.get_criterion()\n",
        "    def eval_step(x, y):\n",
        "        # Sets model to TRAIN mode\n",
        "        model.eval()\n",
        "        # Makes predictions\n",
        "        yhat = model(x)\n",
        "        # Computes loss\n",
        "        loss = loss_fn(y, yhat)\n",
        "        return loss.item()\n",
        "    \n",
        "    # Returns the function that will be called inside the train loop\n",
        "    return eval_step"
      ],
      "execution_count": 570,
      "outputs": []
    },
    {
      "cell_type": "code",
      "metadata": {
        "id": "GP96n5m6Gdvf",
        "colab_type": "code",
        "colab": {}
      },
      "source": [
        "def apply_transform(model, inp, zero_mean=True, unit_var=True):\n",
        "  model.eval()\n",
        "  out = model(inp)\n",
        "  if zero_mean:\n",
        "    out -= out.mean(axis=0)\n",
        "  if unit_var:\n",
        "    out = torch.div(out, out.std(axis=0))\n",
        "  return out"
      ],
      "execution_count": 571,
      "outputs": []
    },
    {
      "cell_type": "code",
      "metadata": {
        "id": "KkjUWVYzTuKG",
        "colab_type": "code",
        "colab": {}
      },
      "source": [
        "def learn(loader, _x_model, _y_model, _x_train_step, _y_train_step, _max_samples=np.inf):\n",
        "  U = []\n",
        "  V = []\n",
        "  losses_x = []\n",
        "  losses_y = []\n",
        "\n",
        "  sample_count = 0\n",
        "  for x_batch, y_batch in loader:\n",
        "    sample_count += len(x_batch)\n",
        "    if sample_count > _max_samples:\n",
        "      break\n",
        "    x_batch = x_batch.to(device)\n",
        "    y_batch = y_batch.to(device)\n",
        "\n",
        "    transformed_y_batch = apply_transform(_y_model, y_batch)\n",
        "    loss_x = _x_train_step(x_batch, transformed_y_batch)\n",
        "    losses_x.append(loss_x)\n",
        "\n",
        "    transformed_x_batch = apply_transform(_x_model, x_batch)\n",
        "    loss_y = _y_train_step(y_batch, transformed_x_batch)\n",
        "    losses_y.append(loss_y)\n",
        "\n",
        "    U.append(apply_transform(_y_model, y_batch))\n",
        "    V.append(transformed_y_batch)\n",
        "  U = torch.cat(U)\n",
        "  V = torch.cat(V)\n",
        "  # UV = U * V\n",
        "  # corr = UV.mean(axis=0).item()\n",
        "  corr = draw_correlations(U.detach().numpy(), V.detach().numpy(), False, False)[0]\n",
        "\n",
        "  return corr, np.mean(losses_x), np.mean(losses_y)\n"
      ],
      "execution_count": 572,
      "outputs": []
    },
    {
      "cell_type": "code",
      "metadata": {
        "id": "KoObKE8cNYF-",
        "colab_type": "code",
        "colab": {}
      },
      "source": [
        "def evaluate(loader, _x_model, _y_model, _x_eval_step, _y_eval_step):\n",
        "  # X = []\n",
        "  # Y = []\n",
        "  U = []\n",
        "  V = []\n",
        "  val_loss_x = []\n",
        "  val_loss_y = []\n",
        "  with torch.no_grad(): \n",
        "    for x_val, y_val in loader:\n",
        "      x_val = x_val.to(device)\n",
        "      y_val = y_val.to(device)\n",
        "\n",
        "      transformed_y_batch = apply_transform(_y_model, y_val)\n",
        "      transformed_x_batch = apply_transform(_x_model, x_val)\n",
        "\n",
        "      # X.append(x_val)\n",
        "      # Y.append(y_val)\n",
        "      U.append(transformed_x_batch)\n",
        "      V.append(transformed_y_batch)\n",
        "\n",
        "      val_loss_x.append(_x_eval_step(x_val, transformed_y_batch))\n",
        "      val_loss_y.append(_y_eval_step(y_val, transformed_x_batch))\n",
        "  # X = torch.cat(X)\n",
        "  # Y = torch.cat(Y)\n",
        "  U = torch.cat(U)\n",
        "  V = torch.cat(V)\n",
        "  # UV = U * V\n",
        "  # return (U, V), np.mean(val_loss_x), np.mean(val_loss_y)\n",
        "  # corr = UV.mean(axis=0).item()\n",
        "  corr = draw_correlations(U, V, False, False)[0]\n",
        "  return corr, (U, V), np.mean(val_loss_x), np.mean(val_loss_y)\n"
      ],
      "execution_count": 573,
      "outputs": []
    },
    {
      "cell_type": "code",
      "metadata": {
        "id": "aeGhyBTmIMSk",
        "colab_type": "code",
        "colab": {}
      },
      "source": [
        "def build_models(cls, *args):\n",
        "  model1 = cls(*args)\n",
        "  model2 = cls(*args)\n",
        "\n",
        "  train_step1 = make_train_step(model1)\n",
        "  train_step2 = make_train_step(model2)\n",
        "\n",
        "  eval_step1 = make_eval_step(model1)\n",
        "  eval_step2 = make_eval_step(model2)\n",
        "  return model1, model2, train_step1, train_step2, eval_step1, eval_step2\n"
      ],
      "execution_count": 574,
      "outputs": []
    },
    {
      "cell_type": "markdown",
      "metadata": {
        "id": "7zggm0cMDxQm",
        "colab_type": "text"
      },
      "source": [
        "### create data split"
      ]
    },
    {
      "cell_type": "code",
      "metadata": {
        "id": "f6d7wDfyiP3N",
        "colab_type": "code",
        "colab": {}
      },
      "source": [
        "x_tensor = torch.from_numpy(X).float()\n",
        "y_tensor = torch.from_numpy(Y).float()"
      ],
      "execution_count": 575,
      "outputs": []
    },
    {
      "cell_type": "code",
      "metadata": {
        "id": "Bvx_JEgrHqzN",
        "colab_type": "code",
        "colab": {}
      },
      "source": [
        "from sklearn.model_selection import train_test_split"
      ],
      "execution_count": 576,
      "outputs": []
    },
    {
      "cell_type": "code",
      "metadata": {
        "id": "tDsFOSM7HuD1",
        "colab_type": "code",
        "colab": {}
      },
      "source": [
        "X_train, X_test, Y_train, Y_test = train_test_split(x_tensor, y_tensor, test_size=0.1, random_state=42)"
      ],
      "execution_count": 577,
      "outputs": []
    },
    {
      "cell_type": "code",
      "metadata": {
        "id": "cMKUwKLmIlt1",
        "colab_type": "code",
        "colab": {}
      },
      "source": [
        "train_dataset = TensorDataset(X_train, Y_train)\n",
        "val_dataset = TensorDataset(X_test, Y_test)"
      ],
      "execution_count": 578,
      "outputs": []
    },
    {
      "cell_type": "code",
      "metadata": {
        "id": "R80CHQqSEk4l",
        "colab_type": "code",
        "colab": {}
      },
      "source": [
        "# train_dataset, val_dataset = random_split(dataset, [train_len, val_len])"
      ],
      "execution_count": 579,
      "outputs": []
    },
    {
      "cell_type": "code",
      "metadata": {
        "id": "J5AhA-0vn47x",
        "colab_type": "code",
        "colab": {}
      },
      "source": [
        "max_samples = len(train_dataset) // 1"
      ],
      "execution_count": 580,
      "outputs": []
    },
    {
      "cell_type": "code",
      "metadata": {
        "id": "Xrbd97R2Kcyw",
        "colab_type": "code",
        "colab": {
          "base_uri": "https://localhost:8080/",
          "height": 34
        },
        "outputId": "1c6d285d-1bbc-4a2a-bfae-1128db917e86"
      },
      "source": [
        "max_samples"
      ],
      "execution_count": 581,
      "outputs": [
        {
          "output_type": "execute_result",
          "data": {
            "text/plain": [
              "9000"
            ]
          },
          "metadata": {
            "tags": []
          },
          "execution_count": 581
        }
      ]
    },
    {
      "cell_type": "code",
      "metadata": {
        "id": "bVubklOqFWBt",
        "colab_type": "code",
        "colab": {}
      },
      "source": [
        "wanted_dim = 1"
      ],
      "execution_count": 582,
      "outputs": []
    },
    {
      "cell_type": "code",
      "metadata": {
        "id": "YdPjImEsS07Q",
        "colab_type": "code",
        "colab": {}
      },
      "source": [
        "hidden_size = 8\n",
        "max_epochs = 10\n",
        "lr = 0.001\n",
        "act = None\n",
        "act = F.relu\n",
        "# batch_size = len(train_dataset) // 2\n",
        "batch_size = 32"
      ],
      "execution_count": 583,
      "outputs": []
    },
    {
      "cell_type": "code",
      "metadata": {
        "id": "6xwdunsUnh7r",
        "colab_type": "code",
        "colab": {}
      },
      "source": [
        "train_loader = DataLoader(dataset=train_dataset, batch_size=batch_size)\n",
        "val_loader = DataLoader(dataset=val_dataset, batch_size=batch_size)"
      ],
      "execution_count": 584,
      "outputs": []
    },
    {
      "cell_type": "code",
      "metadata": {
        "id": "lgN5I0Ne_PrE",
        "colab_type": "code",
        "colab": {
          "base_uri": "https://localhost:8080/",
          "height": 190
        },
        "outputId": "3a3e7178-6fba-484d-f899-fb5e47c22af8"
      },
      "source": [
        "x_model, y_model, x_train_step, y_train_step, x_eval_step, y_eval_step = \\\n",
        "  build_models(Model, X.shape[-1], hidden_size, wanted_dim, lr, act)\n",
        "\n",
        "scores = defaultdict(list)\n",
        "losses = defaultdict(list)\n",
        "\n",
        "last_score, (Us, Vs) , val_x_loss, val_y_loss = evaluate(val_loader, x_model, y_model, x_eval_step, y_eval_step)\n",
        "training_first_score, (Us, Vs) , train_x_loss, train_y_loss = evaluate(train_loader, x_model, y_model, x_eval_step, y_eval_step)\n",
        "\n",
        "scores['validation'].append(last_score)\n",
        "# scores['training'].append(training_first_score)\n",
        "scores['epoch'].append(-1)\n",
        "\n",
        "losses['x_model_validation'].append(val_x_loss)\n",
        "losses['y_model_validation'].append(val_y_loss)\n",
        "losses['x_model_training'].append(train_x_loss)\n",
        "losses['y_model_training'].append(train_y_loss)\n",
        "losses['epoch'].append(-1)\n",
        "\n",
        "for epoch in range(max_epochs):\n",
        "  # train\n",
        "  train_score, train_x_loss, train_y_loss = learn(train_loader, x_model, y_model, x_train_step, y_train_step, _max_samples=max_samples)\n",
        "  \n",
        "  # scores['training'].append(train_score)\n",
        "  losses['x_model_training'].append(train_x_loss)\n",
        "  losses['y_model_training'].append(train_y_loss)\n",
        "  \n",
        "  scores['epoch'].append(epoch)\n",
        "  losses['epoch'].append(epoch)\n",
        "\n",
        "  # validate\n",
        "  current_score, (Us, Vs), val_x_loss, val_y_loss = evaluate(val_loader, x_model, y_model, x_eval_step, y_eval_step)\n",
        "  scores['validation'].append(current_score)\n",
        "  losses['x_model_validation'].append(val_x_loss)\n",
        "  losses['y_model_validation'].append(val_y_loss)\n",
        "\n",
        "  # if last_score > current_score:\n",
        "  #   break\n",
        "  print(current_score)\n",
        "  last_score = current_score\n",
        "        "
      ],
      "execution_count": 585,
      "outputs": [
        {
          "output_type": "stream",
          "text": [
            "0.8280621519743598\n",
            "0.8773166879878441\n",
            "0.9030934689427355\n",
            "0.920815182762165\n",
            "0.9346994404741085\n",
            "0.945724292463751\n",
            "0.9542228502152255\n",
            "0.9606126204008689\n",
            "0.9652339099285114\n",
            "0.9685328865834911\n"
          ],
          "name": "stdout"
        }
      ]
    },
    {
      "cell_type": "markdown",
      "metadata": {
        "id": "aq2_MhqNFJi4",
        "colab_type": "text"
      },
      "source": [
        "Find linear CCA result for wanted dim"
      ]
    },
    {
      "cell_type": "code",
      "metadata": {
        "id": "B9d83wH4lIsP",
        "colab_type": "code",
        "colab": {
          "base_uri": "https://localhost:8080/",
          "height": 103
        },
        "outputId": "22e3d308-a413-47cd-8cdf-628af9062cf2"
      },
      "source": [
        "from sklearn.cross_decomposition import CCA\n",
        "cca = CCA(n_components=3)\n",
        "X_train_c, Y_train_c = cca.fit_transform(X_train, Y_train)\n",
        "X_c, Y_c = cca.transform(X_test, Y_test)\n",
        "print(f'X_c: mean {np.mean(X_c, axis=0)}, std {np.std(X_c, axis=0)}')\n",
        "print(f'Y_c: mean {np.mean(Y_c, axis=0)}, std {np.std(Y_c, axis=0)}')\n",
        "\n",
        "CCAtrain = draw_correlations(X_train_c, Y_train_c, False)\n",
        "CCAtest = draw_correlations(X_c, Y_c)"
      ],
      "execution_count": 586,
      "outputs": [
        {
          "output_type": "stream",
          "text": [
            "X_c: mean [-0.03112446  0.02488793 -0.02757477], std [0.98753767 1.0824386  0.99481412]\n",
            "Y_c: mean [-0.01330721  0.02996964  0.00437941], std [1.02032622 0.98122287 0.97672223]\n",
            "correlations 0th entry: 0.775441161789289\n",
            "correlations 1th entry: 0.7555415417874296\n",
            "correlations 2th entry: 0.7517209343573251\n"
          ],
          "name": "stdout"
        }
      ]
    },
    {
      "cell_type": "code",
      "metadata": {
        "id": "kIKgNA-uf9Mm",
        "colab_type": "code",
        "colab": {
          "base_uri": "https://localhost:8080/",
          "height": 69
        },
        "outputId": "0dffd51f-51d6-4217-9538-e0a696aef02a"
      },
      "source": [
        "# scores['LinearCCA training'] = [max(CCAtrain)] * len(scores['epoch'])\n",
        "scores['LinearCCA validation'] = [max(CCAtest)] * len(scores['epoch'])\n",
        "scores['Maximum score'] = [max(draw_correlations(X_prior, Y_prior))] * len(scores['epoch'])"
      ],
      "execution_count": 587,
      "outputs": [
        {
          "output_type": "stream",
          "text": [
            "correlations 0th entry: 0.9902320262556052\n",
            "correlations 1th entry: 0.9900786568967288\n",
            "correlations 2th entry: 0.9901781800190351\n"
          ],
          "name": "stdout"
        }
      ]
    },
    {
      "cell_type": "code",
      "metadata": {
        "id": "5DJ4-P0VgQ3L",
        "colab_type": "code",
        "colab": {}
      },
      "source": [
        "# len(scores['epoch'])"
      ],
      "execution_count": 588,
      "outputs": []
    },
    {
      "cell_type": "code",
      "metadata": {
        "id": "aZvVFPAARAWp",
        "colab_type": "code",
        "colab": {
          "base_uri": "https://localhost:8080/",
          "height": 497
        },
        "outputId": "c917cf98-4f1c-4aea-efe3-3f790e474668"
      },
      "source": [
        "scores_data = pd.DataFrame(scores)\n",
        "df_scores = pd.melt(scores_data, 'epoch')\n",
        "g = sns.lineplot('epoch', 'value', 'variable', data=df_scores)\n"
      ],
      "execution_count": 589,
      "outputs": [
        {
          "output_type": "display_data",
          "data": {
            "image/png": "[encoded data removed]",
            "text/plain": [
              "<Figure size 864x576 with 1 Axes>"
            ]
          },
          "metadata": {
            "tags": []
          }
        }
      ]
    },
    {
      "cell_type": "code",
      "metadata": {
        "id": "KJzMxtVhGiRf",
        "colab_type": "code",
        "colab": {
          "base_uri": "https://localhost:8080/",
          "height": 514
        },
        "outputId": "6f65e3fb-8469-4001-8171-2f140fab3670"
      },
      "source": [
        "losses_data = pd.DataFrame(losses)\n",
        "df_losses = pd.melt(losses_data, 'epoch')\n",
        "sns.lineplot('epoch', 'value', 'variable', data=df_losses)"
      ],
      "execution_count": 590,
      "outputs": [
        {
          "output_type": "execute_result",
          "data": {
            "text/plain": [
              "<matplotlib.axes._subplots.AxesSubplot at 0x7f0384bb5240>"
            ]
          },
          "metadata": {
            "tags": []
          },
          "execution_count": 590
        },
        {
          "output_type": "display_data",
          "data": {
            "image/png": "[encoded data removed]",
            "text/plain": [
              "<Figure size 864x576 with 1 Axes>"
            ]
          },
          "metadata": {
            "tags": []
          }
        }
      ]
    },
    {
      "cell_type": "code",
      "metadata": {
        "id": "Gae0q_DZmq1T",
        "colab_type": "code",
        "colab": {}
      },
      "source": [
        "def learn_orthogonal_initialization(loader, previous_models, new_model):\n",
        "  # U = []\n",
        "  # V = []\n",
        "  # losses_x = []\n",
        "  # losses_y = []\n",
        "  for _, y_batch in loader:\n",
        "    # x_batch = x_batch.to(device)\n",
        "    y_batch = y_batch.to(device)\n",
        "\n",
        "    for model in previous_models:\n",
        "      transformed_batch = apply_transform(model, y_batch)\n",
        "    loss_x = x_train_step(x_batch, transformed_y_batch)\n",
        "    losses_x.append(loss_x)\n",
        "\n",
        "    transformed_x_batch = apply_transform(_x_model, x_batch)\n",
        "    loss_y = y_train_step(y_batch, transformed_x_batch)\n",
        "    losses_y.append(loss_y)\n",
        "\n",
        "    U.append(apply_transform(_y_model, y_batch))\n",
        "    V.append(transformed_y_batch)\n",
        "  U = torch.cat(U)\n",
        "  V = torch.cat(V)\n",
        "  UV = U * V\n",
        "\n",
        "  return UV.mean(axis=0).item(), np.mean(losses_x), np.mean(losses_y)\n"
      ],
      "execution_count": 591,
      "outputs": []
    }
  ]
}