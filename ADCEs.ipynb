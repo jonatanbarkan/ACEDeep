{
  "nbformat": 4,
  "nbformat_minor": 0,
  "metadata": {
    "colab": {
      "name": "ADCEs",
      "provenance": [],
      "collapsed_sections": [],
      "authorship_tag": "ABX9TyOhB+rzwyfFC1w9achE4Vq1",
      "include_colab_link": true
    },
    "kernelspec": {
      "name": "python3",
      "display_name": "Python 3"
    }
  },
  "cells": [
    {
      "cell_type": "markdown",
      "metadata": {
        "id": "view-in-github",
        "colab_type": "text"
      },
      "source": [
        "<a href=\"https://colab.research.google.com/github/jonatanbarkan/ACEDeep/blob/master/ADCEs.ipynb\" target=\"_parent\"><img src=\"https://colab.research.google.com/assets/colab-badge.svg\" alt=\"Open In Colab\"/></a>"
      ]
    },
    {
      "cell_type": "code",
      "metadata": {
        "id": "f9ue5z29Kcbp",
        "colab_type": "code",
        "colab": {}
      },
      "source": [
        "import numpy as np\n",
        "from scipy.spatial.transform import Rotation\n",
        "import torch\n",
        "import torch.nn as nn\n",
        "import torch.nn.functional as F\n",
        "from torchvision import transforms\n",
        "import matplotlib.pyplot as plt\n",
        "import seaborn as sns\n",
        "from torch.utils.data.dataset import random_split\n",
        "from torch.utils.data import DataLoader\n",
        "from torch.utils.data import Dataset, TensorDataset\n",
        "import tqdm\n",
        "import pandas as pd\n",
        "from collections import defaultdict\n",
        "\n",
        "sns.set_style(\"whitegrid\")\n"
      ],
      "execution_count": null,
      "outputs": []
    },
    {
      "cell_type": "code",
      "metadata": {
        "id": "netWCTxvknOS",
        "colab_type": "code",
        "colab": {}
      },
      "source": [
        "device = 'cuda:0' if torch.cuda.is_available() else 'cpu'\n",
        "print(device)"
      ],
      "execution_count": null,
      "outputs": []
    },
    {
      "cell_type": "code",
      "metadata": {
        "id": "GFmbQvWuK2wx",
        "colab_type": "code",
        "colab": {}
      },
      "source": [
        "d = 3\n",
        "num_samples = 10000"
      ],
      "execution_count": null,
      "outputs": []
    },
    {
      "cell_type": "code",
      "metadata": {
        "id": "mmV9lS-MTQQk",
        "colab_type": "code",
        "colab": {}
      },
      "source": [
        "mu = [0]*d\n",
        "cov = np.eye(d)"
      ],
      "execution_count": null,
      "outputs": []
    },
    {
      "cell_type": "code",
      "metadata": {
        "id": "NRykCgJgYVfZ",
        "colab_type": "code",
        "colab": {}
      },
      "source": [
        "kind = 'hex'\n",
        "# kind = 'scatter'"
      ],
      "execution_count": null,
      "outputs": []
    },
    {
      "cell_type": "code",
      "metadata": {
        "id": "BX-hDlQYLWHJ",
        "colab_type": "code",
        "colab": {}
      },
      "source": [
        "Z = np.random.multivariate_normal(mu, cov, num_samples)"
      ],
      "execution_count": null,
      "outputs": []
    },
    {
      "cell_type": "code",
      "metadata": {
        "id": "cHD4FXmHL2dx",
        "colab_type": "code",
        "colab": {}
      },
      "source": [
        "thetaX = [0] * d\n",
        "thetaX[2] = np.pi/3\n",
        "rotX = Rotation.from_rotvec(thetaX)\n",
        "X = rotX.apply(Z)"
      ],
      "execution_count": null,
      "outputs": []
    },
    {
      "cell_type": "code",
      "metadata": {
        "id": "JNfN2cgrMGrj",
        "colab_type": "code",
        "colab": {}
      },
      "source": [
        "print(f'X: mean {np.mean(X, axis=0)}, std {np.std(X, axis=0)}')"
      ],
      "execution_count": null,
      "outputs": []
    },
    {
      "cell_type": "code",
      "metadata": {
        "id": "xBmqLixLYEWc",
        "colab_type": "code",
        "colab": {}
      },
      "source": [
        "sns.jointplot(Z, X, kind=kind)"
      ],
      "execution_count": null,
      "outputs": []
    },
    {
      "cell_type": "code",
      "metadata": {
        "id": "FhM1_5AjOHwR",
        "colab_type": "code",
        "colab": {}
      },
      "source": [
        "thetaY = [0] * d\n",
        "thetaY[0] = -np.pi / 2\n",
        "thetaY[1] = -np.pi / 6\n",
        "rotY = Rotation.from_rotvec(thetaY)\n",
        "Y = rotY.apply(Z)"
      ],
      "execution_count": null,
      "outputs": []
    },
    {
      "cell_type": "code",
      "metadata": {
        "id": "Cw7-9TmGhFc7",
        "colab_type": "code",
        "colab": {}
      },
      "source": [
        "print(f'X: mean {np.mean(Y, axis=0)}, std {np.std(Y, axis=0)}')"
      ],
      "execution_count": null,
      "outputs": []
    },
    {
      "cell_type": "code",
      "metadata": {
        "id": "Ipx5z9C3YMqa",
        "colab_type": "code",
        "colab": {}
      },
      "source": [
        "sns.jointplot(Z, Y, kind=kind)"
      ],
      "execution_count": null,
      "outputs": []
    },
    {
      "cell_type": "code",
      "metadata": {
        "id": "OOXObJidPGjR",
        "colab_type": "code",
        "colab": {}
      },
      "source": [
        "sns.jointplot(X, Y, kind=kind)"
      ],
      "execution_count": null,
      "outputs": []
    },
    {
      "cell_type": "code",
      "metadata": {
        "id": "FcKsz1IuBtlH",
        "colab_type": "code",
        "colab": {
          "base_uri": "https://localhost:8080/",
          "height": 458
        },
        "outputId": "01f61d5c-9f24-46e8-88a0-c51a30e9a59e"
      },
      "source": [
        "sns.jointplot(Z, Z, kind=kind)"
      ],
      "execution_count": 94,
      "outputs": [
        {
          "output_type": "execute_result",
          "data": {
            "text/plain": [
              "<seaborn.axisgrid.JointGrid at 0x7ff3ceeb9518>"
            ]
          },
          "metadata": {
            "tags": []
          },
          "execution_count": 94
        },
        {
          "output_type": "display_data",
          "data": {
            "image/png": "[encoded data removed]",
            "text/plain": [
              "<Figure size 432x432 with 3 Axes>"
            ]
          },
          "metadata": {
            "tags": []
          }
        }
      ]
    },
    {
      "cell_type": "markdown",
      "metadata": {
        "id": "m2keO5tsW9t7",
        "colab_type": "text"
      },
      "source": [
        "X, Y are rotations of the same samples from a multivariate gaussian with 0 mean and unit covariance"
      ]
    },
    {
      "cell_type": "markdown",
      "metadata": {
        "id": "vjCXN__JEaKm",
        "colab_type": "text"
      },
      "source": [
        "### create pytorch model class and train and eval functions"
      ]
    },
    {
      "cell_type": "code",
      "metadata": {
        "id": "ULMrblk3EsfV",
        "colab_type": "code",
        "colab": {}
      },
      "source": [
        "## notice there is no normalization at the final output. Normalization is performed with apply_transform function"
      ],
      "execution_count": 95,
      "outputs": []
    },
    {
      "cell_type": "code",
      "metadata": {
        "id": "T3jMTC85Zryj",
        "colab_type": "code",
        "colab": {}
      },
      "source": [
        "class Model(nn.Module):\n",
        "  def __init__(self, input_size, hidden_size, output_size, lr=0.01, activation=None):\n",
        "      super(Model, self).__init__()\n",
        "      self.fc1 = nn.Linear(input_size, hidden_size)\n",
        "      # nn.init.xavier_normal_(self.fc1.weight)\n",
        "      self.bn1 = nn.BatchNorm1d(num_features=hidden_size)\n",
        "      self.fc2 = nn.Linear(hidden_size, output_size)\n",
        "      # nn.init.xavier_normal_(self.fc2.weight)\n",
        "      self.bn2 = nn.BatchNorm1d(num_features=output_size, )\n",
        "      \n",
        "      self.learning_rate = lr\n",
        "      self._criterion = nn.MSELoss()\n",
        "      self._optimizer = torch.optim.SGD(self.parameters(), lr=self.learning_rate)\n",
        "      self.activation = activation\n",
        "      \n",
        "  def forward(self, x, activation=None):\n",
        "      u = self.fc1(x)\n",
        "      u = self.bn1(u)\n",
        "      if self.activation is not None:\n",
        "        u = self.activation(u)\n",
        "      u = self.fc2(u)\n",
        "      return u\n",
        "    \n",
        "  def get_criterion(self):\n",
        "      return self._criterion\n",
        "\n",
        "  def get_optimizer(self):\n",
        "      return self._optimizer\n",
        "  "
      ],
      "execution_count": null,
      "outputs": []
    },
    {
      "cell_type": "code",
      "metadata": {
        "id": "JeKeEAlIAhBv",
        "colab_type": "code",
        "colab": {}
      },
      "source": [
        "def make_train_step(model):\n",
        "    # Builds function that performs a step in the train loop\n",
        "    loss_fn = model.get_criterion()\n",
        "    optimizer = model.get_optimizer()\n",
        "    def train_step(x, y):\n",
        "        # Sets model to TRAIN mode\n",
        "        model.train()\n",
        "        # Makes predictions\n",
        "        yhat = model(x)\n",
        "        # Computes loss\n",
        "        loss = loss_fn(y, yhat)\n",
        "        # Computes gradients\n",
        "        loss.backward()\n",
        "        # Updates parameters and zeroes gradients\n",
        "        optimizer.step()\n",
        "        optimizer.zero_grad()\n",
        "        # Returns the loss\n",
        "        return loss.item()\n",
        "    \n",
        "    # Returns the function that will be called inside the train loop\n",
        "    return train_step"
      ],
      "execution_count": null,
      "outputs": []
    },
    {
      "cell_type": "code",
      "metadata": {
        "id": "p7azI72bl3SL",
        "colab_type": "code",
        "colab": {}
      },
      "source": [
        "def make_eval_step(model):\n",
        "    # Builds function that performs a step in the train loop\n",
        "    loss_fn = model.get_criterion()\n",
        "    def eval_step(x, y):\n",
        "        # Sets model to TRAIN mode\n",
        "        model.eval()\n",
        "        # Makes predictions\n",
        "        yhat = model(x)\n",
        "        # Computes loss\n",
        "        loss = loss_fn(y, yhat)\n",
        "        return loss.item()\n",
        "    \n",
        "    # Returns the function that will be called inside the train loop\n",
        "    return eval_step"
      ],
      "execution_count": null,
      "outputs": []
    },
    {
      "cell_type": "code",
      "metadata": {
        "id": "jK_vC2OQEoGF",
        "colab_type": "code",
        "colab": {}
      },
      "source": [
        ""
      ],
      "execution_count": 98,
      "outputs": []
    },
    {
      "cell_type": "code",
      "metadata": {
        "id": "GP96n5m6Gdvf",
        "colab_type": "code",
        "colab": {}
      },
      "source": [
        "def apply_transform(model, inp, zero_mean=True, unit_var=True):\n",
        "  model.eval()\n",
        "  out = model(inp)\n",
        "  if zero_mean:\n",
        "    out -= out.mean(axis=0)\n",
        "  if unit_var:\n",
        "    out = torch.div(out, out.std(axis=0))\n",
        "  return out"
      ],
      "execution_count": null,
      "outputs": []
    },
    {
      "cell_type": "markdown",
      "metadata": {
        "id": "7zggm0cMDxQm",
        "colab_type": "text"
      },
      "source": [
        "### create data"
      ]
    },
    {
      "cell_type": "code",
      "metadata": {
        "id": "f6d7wDfyiP3N",
        "colab_type": "code",
        "colab": {}
      },
      "source": [
        "x_tensor = torch.from_numpy(X).float()\n",
        "y_tensor = torch.from_numpy(Y).float()"
      ],
      "execution_count": null,
      "outputs": []
    },
    {
      "cell_type": "code",
      "metadata": {
        "id": "Bvx_JEgrHqzN",
        "colab_type": "code",
        "colab": {}
      },
      "source": [
        "from sklearn.model_selection import train_test_split"
      ],
      "execution_count": 101,
      "outputs": []
    },
    {
      "cell_type": "code",
      "metadata": {
        "id": "tDsFOSM7HuD1",
        "colab_type": "code",
        "colab": {}
      },
      "source": [
        "X_train, X_test, Y_train, Y_test = train_test_split(x_tensor, y_tensor, test_size=0.33, random_state=42)"
      ],
      "execution_count": 102,
      "outputs": []
    },
    {
      "cell_type": "code",
      "metadata": {
        "id": "cMKUwKLmIlt1",
        "colab_type": "code",
        "colab": {}
      },
      "source": [
        "train_dataset = TensorDataset(X_train, Y_train)\n",
        "val_dataset = TensorDataset(X_test, Y_test)"
      ],
      "execution_count": 103,
      "outputs": []
    },
    {
      "cell_type": "code",
      "metadata": {
        "id": "R80CHQqSEk4l",
        "colab_type": "code",
        "colab": {}
      },
      "source": [
        "# train_dataset, val_dataset = random_split(dataset, [train_len, val_len])"
      ],
      "execution_count": null,
      "outputs": []
    },
    {
      "cell_type": "markdown",
      "metadata": {
        "id": "aq2_MhqNFJi4",
        "colab_type": "text"
      },
      "source": [
        "Find linear CCA result for wanted dim"
      ]
    },
    {
      "cell_type": "code",
      "metadata": {
        "id": "bVubklOqFWBt",
        "colab_type": "code",
        "colab": {}
      },
      "source": [
        "wanted_dim = 1"
      ],
      "execution_count": 105,
      "outputs": []
    },
    {
      "cell_type": "code",
      "metadata": {
        "id": "B9d83wH4lIsP",
        "colab_type": "code",
        "colab": {
          "base_uri": "https://localhost:8080/",
          "height": 509
        },
        "outputId": "fcaa4c73-d5c7-4c89-bce9-a7de35860597"
      },
      "source": [
        "from sklearn.cross_decomposition import CCA\n",
        "cca = CCA(n_components=wanted_dim)\n",
        "cca.fit(X_train, Y_train)\n",
        "X_c, Y_c = cca.transform(X_test, Y_test)\n",
        "print(X_c.mean(),Y_c.mean())\n",
        "print(X_c.std(),Y_c.std())\n",
        "print('score = ', np.mean(X_c * Y_c))\n",
        "sns.jointplot(X_c, Y_c, kind=kind)"
      ],
      "execution_count": 106,
      "outputs": [
        {
          "output_type": "stream",
          "text": [
            "0.0015258409480538243 0.001526735809416357\n",
            "0.9729889184077903 0.9735592714324688\n",
            "score =  0.9472647120729683\n"
          ],
          "name": "stdout"
        },
        {
          "output_type": "execute_result",
          "data": {
            "text/plain": [
              "<seaborn.axisgrid.JointGrid at 0x7ff3cec1e668>"
            ]
          },
          "metadata": {
            "tags": []
          },
          "execution_count": 106
        },
        {
          "output_type": "display_data",
          "data": {
            "image/png": "[encoded data removed]",
            "text/plain": [
              "<Figure size 432x432 with 3 Axes>"
            ]
          },
          "metadata": {
            "tags": []
          }
        }
      ]
    },
    {
      "cell_type": "markdown",
      "metadata": {
        "id": "cEl_3dwUFhPV",
        "colab_type": "text"
      },
      "source": [
        "### Run ACE"
      ]
    },
    {
      "cell_type": "code",
      "metadata": {
        "id": "KkjUWVYzTuKG",
        "colab_type": "code",
        "colab": {}
      },
      "source": [
        "def learn(loader, _x_model, _y_model):\n",
        "  U = []\n",
        "  V = []\n",
        "  losses_x = []\n",
        "  losses_y = []\n",
        "  for x_batch, y_batch in loader:\n",
        "    x_batch = x_batch.to(device)\n",
        "    y_batch = y_batch.to(device)\n",
        "\n",
        "    transformed_y_batch = apply_transform(_y_model, y_batch)\n",
        "    loss_x = x_train_step(x_batch, transformed_y_batch)\n",
        "    losses_x.append(loss_x)\n",
        "\n",
        "    transformed_x_batch = apply_transform(_x_model, x_batch)\n",
        "    loss_y = y_train_step(y_batch, transformed_x_batch)\n",
        "    losses_y.append(loss_y)\n",
        "\n",
        "    U.append(apply_transform(_y_model, y_batch))\n",
        "    V.append(transformed_y_batch)\n",
        "  \n",
        "  UV = torch.cat(U) * torch.cat(V)\n",
        "\n",
        "  return UV.mean(axis=0).item(), np.mean(losses_x), np.mean(losses_y)\n"
      ],
      "execution_count": 107,
      "outputs": []
    },
    {
      "cell_type": "code",
      "metadata": {
        "id": "KoObKE8cNYF-",
        "colab_type": "code",
        "colab": {}
      },
      "source": [
        "def evaluate(loader, _x_model, _y_model):\n",
        "  U = []\n",
        "  V = []\n",
        "  val_loss_x = []\n",
        "  val_loss_y = []\n",
        "  with torch.no_grad(): \n",
        "    for x_val, y_val in loader:\n",
        "      x_val = x_val.to(device)\n",
        "      y_val = y_val.to(device)\n",
        "\n",
        "      transformed_y_batch = apply_transform(_y_model, y_val)\n",
        "      transformed_x_batch = apply_transform(_x_model, x_val)\n",
        "\n",
        "      U.append(transformed_x_batch)\n",
        "      V.append(transformed_y_batch)\n",
        "\n",
        "      val_loss_x.append(x_eval_step(x_val, transformed_y_batch))\n",
        "      val_loss_y.append(y_eval_step(y_val, transformed_x_batch))\n",
        "  UV = torch.cat(U) * torch.cat(V)\n",
        "  return UV.mean(axis=0).item(), np.mean(val_loss_x), np.mean(val_loss_y)\n"
      ],
      "execution_count": 108,
      "outputs": []
    },
    {
      "cell_type": "code",
      "metadata": {
        "id": "YdPjImEsS07Q",
        "colab_type": "code",
        "colab": {}
      },
      "source": [
        "hidden_size = 3\n",
        "max_epochs = 3\n",
        "lr = 0.1\n",
        "act = None\n",
        "# batch_size = len(train_dataset) // 2\n",
        "batch_size = 32"
      ],
      "execution_count": null,
      "outputs": []
    },
    {
      "cell_type": "code",
      "metadata": {
        "id": "Xrbd97R2Kcyw",
        "colab_type": "code",
        "colab": {
          "base_uri": "https://localhost:8080/",
          "height": 34
        },
        "outputId": "9c3fd75b-7af4-4ed4-a3e1-135ecc304ae9"
      },
      "source": [
        "batch_size"
      ],
      "execution_count": 110,
      "outputs": [
        {
          "output_type": "execute_result",
          "data": {
            "text/plain": [
              "32"
            ]
          },
          "metadata": {
            "tags": []
          },
          "execution_count": 110
        }
      ]
    },
    {
      "cell_type": "code",
      "metadata": {
        "id": "6xwdunsUnh7r",
        "colab_type": "code",
        "colab": {}
      },
      "source": [
        "train_loader = DataLoader(dataset=train_dataset, batch_size=batch_size)\n",
        "val_loader = DataLoader(dataset=val_dataset, batch_size=batch_size)"
      ],
      "execution_count": 111,
      "outputs": []
    },
    {
      "cell_type": "code",
      "metadata": {
        "id": "lgN5I0Ne_PrE",
        "colab_type": "code",
        "colab": {}
      },
      "source": [
        "x_model = Model(X.shape[-1], hidden_size, wanted_dim, lr=lr, activation=act)\n",
        "y_model = Model(Y.shape[-1], hidden_size, wanted_dim, lr=lr, activation=act)\n",
        "\n",
        "steps = []\n",
        "epochs = []\n",
        "\n",
        "x_train_step = make_train_step(x_model)\n",
        "y_train_step = make_train_step(y_model)\n",
        "\n",
        "x_eval_step = make_eval_step(x_model)\n",
        "y_eval_step = make_eval_step(y_model)\n",
        "\n",
        "training_scores = defaultdict(list)\n",
        "\n",
        "validation_scores = defaultdict(list)\n",
        "last_score, loss_x, loss_y = evaluate(val_loader, x_model, y_model)\n",
        "validation_scores['validation_scores'].append(last_score)\n",
        "validation_scores['x_model_error'].append(loss_x)\n",
        "validation_scores['y_model_error'].append(loss_y)\n",
        "validation_scores['epoch'].append(-1)\n",
        "\n",
        "i = 0\n",
        "ep = 0\n",
        "\n",
        "for epoch in range(max_epochs):\n",
        "\n",
        "  train_score, train_x_loss, train_y_loss = learn(train_loader, x_model, y_model)\n",
        "  training_scores['training_scores'].append(train_score)\n",
        "  training_scores['x_model_error'].append(train_x_loss)\n",
        "  training_scores['y_model_error'].append(train_y_loss)\n",
        "  training_scores['epoch'].append(epoch)\n",
        "  \n",
        "  # for x_batch, y_batch in train_loader:\n",
        "  #   x_batch = x_batch.to(device)\n",
        "  #   y_batch = y_batch.to(device)\n",
        "\n",
        "  #   transformed_y_batch = apply_transform(y_model, y_batch)\n",
        "  #   loss_x = x_train_step(x_batch, transformed_y_batch)\n",
        "  #   losses_x.append(loss_x)\n",
        "\n",
        "  #   transformed_x_batch = apply_transform(x_model, x_batch)\n",
        "  #   loss_y = y_train_step(y_batch, transformed_x_batch)\n",
        "  #   losses_y.append(loss_y)\n",
        "   \n",
        "  #   steps.append(i)\n",
        "  #   i += 1\n",
        "  #   epochs.append(ep)\n",
        "\n",
        "  current_score, val_x_loss, val_y_loss = evaluate(val_loader, x_model, y_model)\n",
        "  validation_scores['validation_scores'].append(current_score)\n",
        "  validation_scores['x_model_error'].append(val_x_loss)\n",
        "  validation_scores['y_model_error'].append(val_y_loss)\n",
        "  validation_scores['epoch'].append(epoch)\n",
        "\n",
        "  # if last_score > current_score:\n",
        "  #   break\n",
        "  last_score = current_score\n",
        "  # ep += 1\n",
        "        \n",
        "# print(x_model.state_dict())\n",
        "# g = sns.lineplot(range(len(validation_scores)), validation_scores)\n",
        "# g.set_ylim(-1, 1)"
      ],
      "execution_count": null,
      "outputs": []
    },
    {
      "cell_type": "code",
      "metadata": {
        "id": "mFc0p1qMXCk4",
        "colab_type": "code",
        "colab": {
          "base_uri": "https://localhost:8080/",
          "height": 255
        },
        "outputId": "b24c6356-e42e-4767-a383-a72843932395"
      },
      "source": [
        "validation_scores"
      ],
      "execution_count": 113,
      "outputs": [
        {
          "output_type": "execute_result",
          "data": {
            "text/plain": [
              "defaultdict(list,\n",
              "            {'epoch': [-1, 0, 1, 2],\n",
              "             'validation_scores': [0.9510955214500427,\n",
              "              0.9681452512741089,\n",
              "              0.9683829545974731,\n",
              "              0.9684364199638367],\n",
              "             'x_model_error': [1.1170685486151621,\n",
              "              0.06055280692593302,\n",
              "              0.05930482236362877,\n",
              "              0.05895604600244461],\n",
              "             'y_model_error': [0.8748260449904662,\n",
              "              0.05997086053405208,\n",
              "              0.05950862037570914,\n",
              "              0.05944645897202113]})"
            ]
          },
          "metadata": {
            "tags": []
          },
          "execution_count": 113
        }
      ]
    },
    {
      "cell_type": "code",
      "metadata": {
        "id": "aZvVFPAARAWp",
        "colab_type": "code",
        "colab": {
          "base_uri": "https://localhost:8080/",
          "height": 296
        },
        "outputId": "899e65da-7674-4c31-c830-ca4df559ddb8"
      },
      "source": [
        "validation_data = pd.DataFrame(validation_scores)\n",
        "df_val = pd.melt(validation_data, 'epoch')\n",
        "sns.lineplot('epoch', 'value', 'variable', data=df_val)"
      ],
      "execution_count": 114,
      "outputs": [
        {
          "output_type": "execute_result",
          "data": {
            "text/plain": [
              "<matplotlib.axes._subplots.AxesSubplot at 0x7ff3cea89c50>"
            ]
          },
          "metadata": {
            "tags": []
          },
          "execution_count": 114
        },
        {
          "output_type": "display_data",
          "data": {
            "image/png": "[encoded data removed]",
            "text/plain": [
              "<Figure size 432x288 with 1 Axes>"
            ]
          },
          "metadata": {
            "tags": []
          }
        }
      ]
    },
    {
      "cell_type": "code",
      "metadata": {
        "id": "KJzMxtVhGiRf",
        "colab_type": "code",
        "colab": {
          "base_uri": "https://localhost:8080/",
          "height": 297
        },
        "outputId": "35df51ac-6a13-4e63-d33b-4fcd1e439b7f"
      },
      "source": [
        "training_data = pd.DataFrame(training_scores)\n",
        "df_train = pd.melt(training_data, 'epoch')\n",
        "sns.lineplot('epoch', 'value', 'variable', data=df_train)"
      ],
      "execution_count": 115,
      "outputs": [
        {
          "output_type": "execute_result",
          "data": {
            "text/plain": [
              "<matplotlib.axes._subplots.AxesSubplot at 0x7ff3ce9b8908>"
            ]
          },
          "metadata": {
            "tags": []
          },
          "execution_count": 115
        },
        {
          "output_type": "display_data",
          "data": {
            "image/png": "[encoded data removed]",
            "text/plain": [
              "<Figure size 432x288 with 1 Axes>"
            ]
          },
          "metadata": {
            "tags": []
          }
        }
      ]
    },
    {
      "cell_type": "code",
      "metadata": {
        "id": "F-EQuTOxShU9",
        "colab_type": "code",
        "colab": {}
      },
      "source": [
        ""
      ],
      "execution_count": 115,
      "outputs": []
    }
  ]
}