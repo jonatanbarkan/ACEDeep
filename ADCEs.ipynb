{
  "nbformat": 4,
  "nbformat_minor": 0,
  "metadata": {
    "colab": {
      "name": "ADCEs",
      "provenance": [],
      "collapsed_sections": [],
      "authorship_tag": "ABX9TyMh5FRAT/QH8wiECLzhbrTl",
      "include_colab_link": true
    },
    "kernelspec": {
      "name": "python3",
      "display_name": "Python 3"
    }
  },
  "cells": [
    {
      "cell_type": "markdown",
      "metadata": {
        "id": "view-in-github",
        "colab_type": "text"
      },
      "source": [
        "<a href=\"https://colab.research.google.com/github/jonatanbarkan/ACEDeep/blob/master/ADCEs.ipynb\" target=\"_parent\"><img src=\"https://colab.research.google.com/assets/colab-badge.svg\" alt=\"Open In Colab\"/></a>"
      ]
    },
    {
      "cell_type": "code",
      "metadata": {
        "id": "f9ue5z29Kcbp",
        "colab_type": "code",
        "colab": {}
      },
      "source": [
        "import numpy as np\n",
        "from scipy.spatial.transform import Rotation\n",
        "import torch\n",
        "import torch.nn as nn\n",
        "import torch.nn.functional as F\n",
        "from torchvision import transforms\n",
        "import matplotlib.pyplot as plt\n",
        "import seaborn as sns\n",
        "from torch.utils.data.dataset import random_split\n",
        "from torch.utils.data import DataLoader\n",
        "from torch.utils.data import Dataset, TensorDataset\n",
        "import tqdm\n",
        "import pandas as pd\n",
        "\n",
        "sns.set_style(\"whitegrid\")\n"
      ],
      "execution_count": null,
      "outputs": []
    },
    {
      "cell_type": "code",
      "metadata": {
        "id": "netWCTxvknOS",
        "colab_type": "code",
        "colab": {}
      },
      "source": [
        "device = 'cuda:0' if torch.cuda.is_available() else 'cpu'\n",
        "print(device)"
      ],
      "execution_count": null,
      "outputs": []
    },
    {
      "cell_type": "code",
      "metadata": {
        "id": "GFmbQvWuK2wx",
        "colab_type": "code",
        "colab": {}
      },
      "source": [
        "d = 3\n",
        "num_samples = 100000"
      ],
      "execution_count": null,
      "outputs": []
    },
    {
      "cell_type": "code",
      "metadata": {
        "id": "mmV9lS-MTQQk",
        "colab_type": "code",
        "colab": {}
      },
      "source": [
        "mu = [0]*d\n",
        "cov = np.eye(d)"
      ],
      "execution_count": null,
      "outputs": []
    },
    {
      "cell_type": "code",
      "metadata": {
        "id": "NRykCgJgYVfZ",
        "colab_type": "code",
        "colab": {}
      },
      "source": [
        "kind = 'hex'\n",
        "# kind = 'scatter'"
      ],
      "execution_count": null,
      "outputs": []
    },
    {
      "cell_type": "code",
      "metadata": {
        "id": "BX-hDlQYLWHJ",
        "colab_type": "code",
        "colab": {}
      },
      "source": [
        "X = np.random.multivariate_normal(mu, cov, num_samples)\n",
        "Y = np.random.multivariate_normal(mu, cov, num_samples)"
      ],
      "execution_count": null,
      "outputs": []
    },
    {
      "cell_type": "code",
      "metadata": {
        "id": "whlpVRv3S8Zr",
        "colab_type": "code",
        "colab": {}
      },
      "source": [
        "np.std(X, axis=0)"
      ],
      "execution_count": null,
      "outputs": []
    },
    {
      "cell_type": "code",
      "metadata": {
        "id": "cHD4FXmHL2dx",
        "colab_type": "code",
        "colab": {}
      },
      "source": [
        "thetaX = [0] * d\n",
        "thetaX[2] = np.pi/1\n",
        "rotX = Rotation.from_rotvec(thetaX)\n",
        "X_rot = rotX.apply(X)"
      ],
      "execution_count": null,
      "outputs": []
    },
    {
      "cell_type": "code",
      "metadata": {
        "id": "JNfN2cgrMGrj",
        "colab_type": "code",
        "colab": {}
      },
      "source": [
        "np.mean(X_rot, axis=0)"
      ],
      "execution_count": null,
      "outputs": []
    },
    {
      "cell_type": "code",
      "metadata": {
        "id": "xBmqLixLYEWc",
        "colab_type": "code",
        "colab": {}
      },
      "source": [
        "sns.jointplot(X, X_rot, kind=kind)"
      ],
      "execution_count": null,
      "outputs": []
    },
    {
      "cell_type": "code",
      "metadata": {
        "id": "FhM1_5AjOHwR",
        "colab_type": "code",
        "colab": {}
      },
      "source": [
        "thetaY = [0] * d\n",
        "thetaY[0] = -np.pi / 2\n",
        "thetaY[1] = -np.pi / 6\n",
        "rotY = Rotation.from_rotvec(thetaY)\n",
        "Y_rot = rotY.apply(Y)"
      ],
      "execution_count": null,
      "outputs": []
    },
    {
      "cell_type": "code",
      "metadata": {
        "id": "Cw7-9TmGhFc7",
        "colab_type": "code",
        "colab": {}
      },
      "source": [
        "np.std(Y_rot, axis=0)"
      ],
      "execution_count": null,
      "outputs": []
    },
    {
      "cell_type": "code",
      "metadata": {
        "id": "Ipx5z9C3YMqa",
        "colab_type": "code",
        "colab": {}
      },
      "source": [
        "sns.jointplot(Y, Y_rot, kind=kind)"
      ],
      "execution_count": null,
      "outputs": []
    },
    {
      "cell_type": "code",
      "metadata": {
        "id": "OOXObJidPGjR",
        "colab_type": "code",
        "colab": {}
      },
      "source": [
        "sns.jointplot(X, Y, kind=kind)\n",
        "sns.jointplot(X_rot, Y_rot, kind=kind)"
      ],
      "execution_count": null,
      "outputs": []
    },
    {
      "cell_type": "code",
      "metadata": {
        "id": "m2keO5tsW9t7",
        "colab_type": "code",
        "colab": {}
      },
      "source": [
        "## X, Y are num_samples samples of a multivariate gaussian with 0 mean and unit covariance"
      ],
      "execution_count": null,
      "outputs": []
    },
    {
      "cell_type": "code",
      "metadata": {
        "id": "f6d7wDfyiP3N",
        "colab_type": "code",
        "colab": {}
      },
      "source": [
        "x_tensor = torch.from_numpy(X_rot).float()\n",
        "y_tensor = torch.from_numpy(Y_rot).float()"
      ],
      "execution_count": null,
      "outputs": []
    },
    {
      "cell_type": "code",
      "metadata": {
        "id": "DmN24dFMCr0U",
        "colab_type": "code",
        "colab": {}
      },
      "source": [
        "dataset = TensorDataset(x_tensor, y_tensor)"
      ],
      "execution_count": null,
      "outputs": []
    },
    {
      "cell_type": "code",
      "metadata": {
        "id": "SuKvRPvRCtBs",
        "colab_type": "code",
        "colab": {}
      },
      "source": [
        "train_len = int(len(dataset) * 0.8)\n",
        "val_len = len(dataset) - train_len"
      ],
      "execution_count": null,
      "outputs": []
    },
    {
      "cell_type": "code",
      "metadata": {
        "id": "R80CHQqSEk4l",
        "colab_type": "code",
        "colab": {}
      },
      "source": [
        "train_dataset, val_dataset = random_split(dataset, [train_len, val_len])"
      ],
      "execution_count": null,
      "outputs": []
    },
    {
      "cell_type": "code",
      "metadata": {
        "id": "T3jMTC85Zryj",
        "colab_type": "code",
        "colab": {}
      },
      "source": [
        "class Model(nn.Module):\n",
        "  def __init__(self, input_size, hidden_size, output_size, lr=0.01, autoregularization=False, activation=None):\n",
        "      super(Model, self).__init__()\n",
        "      self.fc1 = nn.Linear(input_size, hidden_size)\n",
        "      # nn.init.xavier_normal_(self.fc1.weight)\n",
        "      self.bn1 = nn.BatchNorm1d(num_features=hidden_size)\n",
        "      self.fc2 = nn.Linear(hidden_size, output_size)\n",
        "      # nn.init.xavier_normal_(self.fc2.weight)\n",
        "      self.bn2 = nn.BatchNorm1d(num_features=output_size, )\n",
        "      self.autoregularization = autoregularization\n",
        "      if self.autoregularization:\n",
        "        self.fc2_inv = nn.Linear(output_size, hidden_size)\n",
        "        self.bn2_inv = nn.BatchNorm1d(num_features=hidden_size)\n",
        "        self.fc1_inv = nn.Linear(hidden_size, input_size)\n",
        "        \n",
        "      self.learning_rate = lr\n",
        "      self._criterion = nn.MSELoss()\n",
        "      self._optimizer = torch.optim.SGD(self.parameters(), lr=self.learning_rate)\n",
        "      self._reg = 0.01\n",
        "      self.activation = activation\n",
        "      \n",
        "  def forward(self, x, activation=None):\n",
        "      z = self.fc1(x)\n",
        "      z = self.bn1(z)\n",
        "      if self.activation is not None:\n",
        "        z = self.activation(z)\n",
        "      z = self.fc2(z)\n",
        "      if self.autoregularization:\n",
        "        x = self.fc2_inv(z)\n",
        "        x = self.bn2_inv(x)\n",
        "        if self.activation is not None:\n",
        "          z = self.activation(z)\n",
        "        x = self.fc1_inv(x)\n",
        "      return z, x\n",
        "    \n",
        "  def get_criterion(self):\n",
        "      return self._criterion\n",
        "\n",
        "  def get_optimizer(self):\n",
        "      return self._optimizer\n",
        "  \n",
        "  def get_reg(self):\n",
        "      return self._reg"
      ],
      "execution_count": null,
      "outputs": []
    },
    {
      "cell_type": "code",
      "metadata": {
        "id": "JeKeEAlIAhBv",
        "colab_type": "code",
        "colab": {}
      },
      "source": [
        "def make_train_step(model):\n",
        "    # Builds function that performs a step in the train loop\n",
        "    loss_fn = model.get_criterion()\n",
        "    optimizer = model.get_optimizer()\n",
        "    autoregularization = model.autoregularization\n",
        "    def train_step(x, y):\n",
        "        # Sets model to TRAIN mode\n",
        "        model.train()\n",
        "        # Makes predictions\n",
        "        yhat, x_hat = model(x)\n",
        "        # Computes loss\n",
        "        loss = loss_fn(y, yhat)\n",
        "        if autoregularization:\n",
        "          loss += model.get_reg() * loss_fn(x, x_hat)\n",
        "        # Computes gradients\n",
        "        loss.backward()\n",
        "        # Updates parameters and zeroes gradients\n",
        "        optimizer.step()\n",
        "        optimizer.zero_grad()\n",
        "        # Returns the loss\n",
        "        return loss.item()\n",
        "    \n",
        "    # Returns the function that will be called inside the train loop\n",
        "    return train_step"
      ],
      "execution_count": null,
      "outputs": []
    },
    {
      "cell_type": "code",
      "metadata": {
        "id": "p7azI72bl3SL",
        "colab_type": "code",
        "colab": {}
      },
      "source": [
        "def make_eval_step(model):\n",
        "    # Builds function that performs a step in the train loop\n",
        "    loss_fn = model.get_criterion()\n",
        "    def eval_step(x, y):\n",
        "        # Sets model to TRAIN mode\n",
        "        model.eval()\n",
        "        # Makes predictions\n",
        "        yhat, x_reg = model(x)\n",
        "        # Computes loss\n",
        "        loss = loss_fn(y, yhat)\n",
        "        return loss.item()\n",
        "    \n",
        "    # Returns the function that will be called inside the train loop\n",
        "    return eval_step"
      ],
      "execution_count": null,
      "outputs": []
    },
    {
      "cell_type": "code",
      "metadata": {
        "id": "GP96n5m6Gdvf",
        "colab_type": "code",
        "colab": {}
      },
      "source": [
        "def apply_transform(model, inp, zero_mean=True, unit_var=True):\n",
        "  model.eval()\n",
        "  out, reconstraction = model(inp)\n",
        "  if zero_mean:\n",
        "    out -= out.mean(axis=0)\n",
        "  if unit_var:\n",
        "    out = torch.div(out, out.std(axis=0))\n",
        "  return out"
      ],
      "execution_count": null,
      "outputs": []
    },
    {
      "cell_type": "code",
      "metadata": {
        "id": "YdPjImEsS07Q",
        "colab_type": "code",
        "colab": {}
      },
      "source": [
        "wanted_dim = 1\n",
        "hidden_size = 3\n",
        "max_epochs = 20\n",
        "zero_mean=True\n",
        "unit_var=True\n",
        "lr = 0.01\n",
        "act = None\n",
        "autoregularization = False\n",
        "batch_size = train_len"
      ],
      "execution_count": null,
      "outputs": []
    },
    {
      "cell_type": "code",
      "metadata": {
        "id": "6xwdunsUnh7r",
        "colab_type": "code",
        "colab": {}
      },
      "source": [
        "train_loader = DataLoader(dataset=train_dataset, batch_size=batch_size)\n",
        "val_loader = DataLoader(dataset=val_dataset, batch_size=batch_size)"
      ],
      "execution_count": 26,
      "outputs": []
    },
    {
      "cell_type": "code",
      "metadata": {
        "id": "B9d83wH4lIsP",
        "colab_type": "code",
        "colab": {}
      },
      "source": [
        "from sklearn.cross_decomposition import CCA\n",
        "cca = CCA(n_components=1)\n",
        "cca.fit(X_rot, Y_rot)\n",
        "X_c, Y_c = cca.transform(X, Y)\n",
        "print(X_c.mean(),Y_c.mean())\n",
        "print(X_c.std(),Y_c.std())\n",
        "print('score = ', np.mean(X_c * Y_c))"
      ],
      "execution_count": 27,
      "outputs": []
    },
    {
      "cell_type": "code",
      "metadata": {
        "id": "lgN5I0Ne_PrE",
        "colab_type": "code",
        "colab": {}
      },
      "source": [
        "x_model = Model(X_rot.shape[-1], hidden_size, wanted_dim, lr=lr, activation=act, autoregularization=autoregularization)\n",
        "y_model = Model(Y_rot.shape[-1], hidden_size, wanted_dim, lr=lr, activation=act, autoregularization=autoregularization)\n",
        "\n",
        "# x_model_knn = KNN(hidden_size)\n",
        "\n",
        "losses_x = []\n",
        "losses_y = []\n",
        "expectations = []\n",
        "val_expectations = []\n",
        "steps = []\n",
        "epochs = []\n",
        "val_losses_x = []\n",
        "val_losses_y = []\n",
        "\n",
        "x_train_step = make_train_step(x_model)\n",
        "y_train_step = make_train_step(y_model)\n",
        "\n",
        "x_eval_step = make_eval_step(x_model)\n",
        "y_eval_step = make_eval_step(y_model)\n",
        "last_score = -np.infty\n",
        "\n",
        "i = 0\n",
        "ep = 0\n",
        "\n",
        "for epoch in range(max_epochs):\n",
        "  \n",
        "  for x_batch, y_batch in train_loader:\n",
        "    x_batch = x_batch.to(device)\n",
        "    y_batch = y_batch.to(device)\n",
        "\n",
        "    transformed_y_batch = apply_transform(y_model, y_batch, zero_mean, unit_var)\n",
        "    loss_x = x_train_step(x_batch, transformed_y_batch)\n",
        "    losses_x.append(loss_x)\n",
        "\n",
        "    transformed_x_batch = apply_transform(x_model, x_batch, zero_mean, unit_var)\n",
        "    loss_y = y_train_step(y_batch, transformed_x_batch)\n",
        "    losses_y.append(loss_y)\n",
        "   \n",
        "    transformed_y_batch = apply_transform(y_model, y_batch, zero_mean, unit_var)\n",
        "    corr = torch.mul(transformed_x_batch, transformed_y_batch)\n",
        "    expectations.append(corr.mean().item())\n",
        "\n",
        "    steps.append(i)\n",
        "    i += 1\n",
        "    epochs.append(ep)\n",
        "  val_loss_x = []\n",
        "  val_loss_y = []\n",
        "  val_expect = []\n",
        "  U = []\n",
        "  V = []\n",
        "  with torch.no_grad(): \n",
        "    for x_val, y_val in val_loader:\n",
        "      x_val = x_val.to(device)\n",
        "      y_val = y_val.to(device)\n",
        "\n",
        "      transformed_y_batch = apply_transform(y_model, y_val, zero_mean, unit_var)\n",
        "      transformed_x_batch = apply_transform(x_model, x_val, zero_mean, unit_var)\n",
        "\n",
        "      U.append(transformed_x_batch)\n",
        "      V.append(transformed_y_batch)\n",
        "\n",
        "      val_loss_x.append(x_eval_step(x_val, transformed_y_batch))\n",
        "      val_loss_y.append(y_eval_step(y_val, transformed_x_batch))\n",
        "\n",
        "  val_losses_x.append(np.mean(val_loss_x))\n",
        "  val_losses_y.append(np.mean(val_loss_y))\n",
        "\n",
        "  UV = torch.cat(U) * torch.cat(V)\n",
        "  current_score = UV.mean(axis=0).item()\n",
        "  val_expectations.append(UV.mean(axis=0).item())\n",
        "  # val_expect_temp = torch.cat(val_expect).mean(axis=0).numpy()\n",
        "  # val_expectations.append(torch.cat(val_expect).mean(axis=0).item())\n",
        "  if last_score > current_score:\n",
        "    break\n",
        "  ep += 1\n",
        "        \n",
        "# print(x_model.state_dict())\n",
        "g = sns.lineplot(range(len(val_expectations)), val_expectations)"
      ],
      "execution_count": null,
      "outputs": []
    },
    {
      "cell_type": "code",
      "metadata": {
        "id": "_9Xg5igvsSi0",
        "colab_type": "code",
        "colab": {}
      },
      "source": [
        "dat = pd.DataFrame({'ace score': val_expectations, 'linear score': [np.mean(X_c * Y_c)] * len(val_expectations), 'epoch': range(len(val_expectations))})"
      ],
      "execution_count": 35,
      "outputs": []
    },
    {
      "cell_type": "code",
      "metadata": {
        "id": "gckWk8PQsJAe",
        "colab_type": "code",
        "colab": {}
      },
      "source": [
        "gb = dat.groupby('epoch')"
      ],
      "execution_count": 36,
      "outputs": []
    },
    {
      "cell_type": "code",
      "metadata": {
        "id": "k1az8fEktPVY",
        "colab_type": "code",
        "colab": {
          "base_uri": "https://localhost:8080/",
          "height": 235
        },
        "outputId": "19274d73-4527-4fcd-f6e4-cb201c73cb80"
      },
      "source": [
        "df_2 = gb.mean()\n",
        "df_2.head(5)"
      ],
      "execution_count": 50,
      "outputs": [
        {
          "output_type": "execute_result",
          "data": {
            "text/html": [
              "<div>\n",
              "<style scoped>\n",
              "    .dataframe tbody tr th:only-of-type {\n",
              "        vertical-align: middle;\n",
              "    }\n",
              "\n",
              "    .dataframe tbody tr th {\n",
              "        vertical-align: top;\n",
              "    }\n",
              "\n",
              "    .dataframe thead th {\n",
              "        text-align: right;\n",
              "    }\n",
              "</style>\n",
              "<table border=\"1\" class=\"dataframe\">\n",
              "  <thead>\n",
              "    <tr style=\"text-align: right;\">\n",
              "      <th></th>\n",
              "      <th>ace score</th>\n",
              "      <th>linear score</th>\n",
              "    </tr>\n",
              "    <tr>\n",
              "      <th>epoch</th>\n",
              "      <th></th>\n",
              "      <th></th>\n",
              "    </tr>\n",
              "  </thead>\n",
              "  <tbody>\n",
              "    <tr>\n",
              "      <th>0</th>\n",
              "      <td>-0.001712</td>\n",
              "      <td>-0.007216</td>\n",
              "    </tr>\n",
              "    <tr>\n",
              "      <th>1</th>\n",
              "      <td>-0.001768</td>\n",
              "      <td>-0.007216</td>\n",
              "    </tr>\n",
              "    <tr>\n",
              "      <th>2</th>\n",
              "      <td>-0.001798</td>\n",
              "      <td>-0.007216</td>\n",
              "    </tr>\n",
              "    <tr>\n",
              "      <th>3</th>\n",
              "      <td>-0.001803</td>\n",
              "      <td>-0.007216</td>\n",
              "    </tr>\n",
              "    <tr>\n",
              "      <th>4</th>\n",
              "      <td>-0.001785</td>\n",
              "      <td>-0.007216</td>\n",
              "    </tr>\n",
              "  </tbody>\n",
              "</table>\n",
              "</div>"
            ],
            "text/plain": [
              "       ace score  linear score\n",
              "epoch                         \n",
              "0      -0.001712     -0.007216\n",
              "1      -0.001768     -0.007216\n",
              "2      -0.001798     -0.007216\n",
              "3      -0.001803     -0.007216\n",
              "4      -0.001785     -0.007216"
            ]
          },
          "metadata": {
            "tags": []
          },
          "execution_count": 50
        }
      ]
    },
    {
      "cell_type": "code",
      "metadata": {
        "id": "KH8VPOzxt3NW",
        "colab_type": "code",
        "colab": {
          "base_uri": "https://localhost:8080/",
          "height": 306
        },
        "outputId": "1a864d07-9478-4fac-99e9-a408f0a79b03"
      },
      "source": [
        "sns.lineplot('ace score', 'linear score')"
      ],
      "execution_count": 49,
      "outputs": [
        {
          "output_type": "error",
          "ename": "ValueError",
          "evalue": "ignored",
          "traceback": [
            "\u001b[0;31m---------------------------------------------------------------------------\u001b[0m",
            "\u001b[0;31mValueError\u001b[0m                                Traceback (most recent call last)",
            "\u001b[0;32m<ipython-input-49-3f5fecc422f9>\u001b[0m in \u001b[0;36m<module>\u001b[0;34m()\u001b[0m\n\u001b[0;32m----> 1\u001b[0;31m \u001b[0msns\u001b[0m\u001b[0;34m.\u001b[0m\u001b[0mlineplot\u001b[0m\u001b[0;34m(\u001b[0m\u001b[0;34m'ace score'\u001b[0m\u001b[0;34m,\u001b[0m \u001b[0;34m'linear score'\u001b[0m\u001b[0;34m)\u001b[0m\u001b[0;34m\u001b[0m\u001b[0;34m\u001b[0m\u001b[0m\n\u001b[0m",
            "\u001b[0;32m/usr/local/lib/python3.6/dist-packages/seaborn/relational.py\u001b[0m in \u001b[0;36mlineplot\u001b[0;34m(x, y, hue, size, style, data, palette, hue_order, hue_norm, sizes, size_order, size_norm, dashes, markers, style_order, units, estimator, ci, n_boot, seed, sort, err_style, err_kws, legend, ax, **kwargs)\u001b[0m\n\u001b[1;32m   1124\u001b[0m         \u001b[0mdashes\u001b[0m\u001b[0;34m=\u001b[0m\u001b[0mdashes\u001b[0m\u001b[0;34m,\u001b[0m \u001b[0mmarkers\u001b[0m\u001b[0;34m=\u001b[0m\u001b[0mmarkers\u001b[0m\u001b[0;34m,\u001b[0m \u001b[0mstyle_order\u001b[0m\u001b[0;34m=\u001b[0m\u001b[0mstyle_order\u001b[0m\u001b[0;34m,\u001b[0m\u001b[0;34m\u001b[0m\u001b[0;34m\u001b[0m\u001b[0m\n\u001b[1;32m   1125\u001b[0m         \u001b[0munits\u001b[0m\u001b[0;34m=\u001b[0m\u001b[0munits\u001b[0m\u001b[0;34m,\u001b[0m \u001b[0mestimator\u001b[0m\u001b[0;34m=\u001b[0m\u001b[0mestimator\u001b[0m\u001b[0;34m,\u001b[0m \u001b[0mci\u001b[0m\u001b[0;34m=\u001b[0m\u001b[0mci\u001b[0m\u001b[0;34m,\u001b[0m \u001b[0mn_boot\u001b[0m\u001b[0;34m=\u001b[0m\u001b[0mn_boot\u001b[0m\u001b[0;34m,\u001b[0m \u001b[0mseed\u001b[0m\u001b[0;34m=\u001b[0m\u001b[0mseed\u001b[0m\u001b[0;34m,\u001b[0m\u001b[0;34m\u001b[0m\u001b[0;34m\u001b[0m\u001b[0m\n\u001b[0;32m-> 1126\u001b[0;31m         \u001b[0msort\u001b[0m\u001b[0;34m=\u001b[0m\u001b[0msort\u001b[0m\u001b[0;34m,\u001b[0m \u001b[0merr_style\u001b[0m\u001b[0;34m=\u001b[0m\u001b[0merr_style\u001b[0m\u001b[0;34m,\u001b[0m \u001b[0merr_kws\u001b[0m\u001b[0;34m=\u001b[0m\u001b[0merr_kws\u001b[0m\u001b[0;34m,\u001b[0m \u001b[0mlegend\u001b[0m\u001b[0;34m=\u001b[0m\u001b[0mlegend\u001b[0m\u001b[0;34m,\u001b[0m\u001b[0;34m\u001b[0m\u001b[0;34m\u001b[0m\u001b[0m\n\u001b[0m\u001b[1;32m   1127\u001b[0m     )\n\u001b[1;32m   1128\u001b[0m \u001b[0;34m\u001b[0m\u001b[0m\n",
            "\u001b[0;32m/usr/local/lib/python3.6/dist-packages/seaborn/relational.py\u001b[0m in \u001b[0;36m__init__\u001b[0;34m(self, x, y, hue, size, style, data, palette, hue_order, hue_norm, sizes, size_order, size_norm, dashes, markers, style_order, units, estimator, ci, n_boot, seed, sort, err_style, err_kws, legend)\u001b[0m\n\u001b[1;32m    693\u001b[0m \u001b[0;34m\u001b[0m\u001b[0m\n\u001b[1;32m    694\u001b[0m         plot_data = self.establish_variables(\n\u001b[0;32m--> 695\u001b[0;31m             \u001b[0mx\u001b[0m\u001b[0;34m,\u001b[0m \u001b[0my\u001b[0m\u001b[0;34m,\u001b[0m \u001b[0mhue\u001b[0m\u001b[0;34m,\u001b[0m \u001b[0msize\u001b[0m\u001b[0;34m,\u001b[0m \u001b[0mstyle\u001b[0m\u001b[0;34m,\u001b[0m \u001b[0munits\u001b[0m\u001b[0;34m,\u001b[0m \u001b[0mdata\u001b[0m\u001b[0;34m\u001b[0m\u001b[0;34m\u001b[0m\u001b[0m\n\u001b[0m\u001b[1;32m    696\u001b[0m         )\n\u001b[1;32m    697\u001b[0m \u001b[0;34m\u001b[0m\u001b[0m\n",
            "\u001b[0;32m/usr/local/lib/python3.6/dist-packages/seaborn/relational.py\u001b[0m in \u001b[0;36mestablish_variables\u001b[0;34m(self, x, y, hue, size, style, units, data)\u001b[0m\n\u001b[1;32m    135\u001b[0m                 \u001b[0;32mif\u001b[0m \u001b[0misinstance\u001b[0m\u001b[0;34m(\u001b[0m\u001b[0mvar\u001b[0m\u001b[0;34m,\u001b[0m \u001b[0mstr\u001b[0m\u001b[0;34m)\u001b[0m\u001b[0;34m:\u001b[0m\u001b[0;34m\u001b[0m\u001b[0;34m\u001b[0m\u001b[0m\n\u001b[1;32m    136\u001b[0m                     \u001b[0merr\u001b[0m \u001b[0;34m=\u001b[0m \u001b[0;34m\"Could not interpret input '{}'\"\u001b[0m\u001b[0;34m.\u001b[0m\u001b[0mformat\u001b[0m\u001b[0;34m(\u001b[0m\u001b[0mvar\u001b[0m\u001b[0;34m)\u001b[0m\u001b[0;34m\u001b[0m\u001b[0;34m\u001b[0m\u001b[0m\n\u001b[0;32m--> 137\u001b[0;31m                     \u001b[0;32mraise\u001b[0m \u001b[0mValueError\u001b[0m\u001b[0;34m(\u001b[0m\u001b[0merr\u001b[0m\u001b[0;34m)\u001b[0m\u001b[0;34m\u001b[0m\u001b[0;34m\u001b[0m\u001b[0m\n\u001b[0m\u001b[1;32m    138\u001b[0m \u001b[0;34m\u001b[0m\u001b[0m\n\u001b[1;32m    139\u001b[0m             \u001b[0;31m# Extract variable names\u001b[0m\u001b[0;34m\u001b[0m\u001b[0;34m\u001b[0m\u001b[0;34m\u001b[0m\u001b[0m\n",
            "\u001b[0;31mValueError\u001b[0m: Could not interpret input 'ace score'"
          ]
        }
      ]
    },
    {
      "cell_type": "code",
      "metadata": {
        "id": "bIivirhmMCD4",
        "colab_type": "code",
        "colab": {}
      },
      "source": [
        "losses = losses_x + losses_y\n",
        "steps_col = steps + steps\n",
        "epochs_col = epochs + epochs\n",
        "it = len(epochs)\n",
        "model_name = it * ['x model'] + it * ['y model']"
      ],
      "execution_count": null,
      "outputs": []
    },
    {
      "cell_type": "code",
      "metadata": {
        "id": "r92P4OI9J9mz",
        "colab_type": "code",
        "colab": {}
      },
      "source": [
        "d = {'training loss': losses, 'model': model_name, 'steps': steps_col, 'epoch': epochs_col}\n",
        "df = pd.DataFrame(d)"
      ],
      "execution_count": null,
      "outputs": []
    },
    {
      "cell_type": "code",
      "metadata": {
        "id": "nT9dNFWbfziE",
        "colab_type": "code",
        "colab": {}
      },
      "source": [
        "sns.lineplot('steps', 'training loss', 'model', data=df)"
      ],
      "execution_count": null,
      "outputs": []
    },
    {
      "cell_type": "code",
      "metadata": {
        "id": "GmVQrtGngB25",
        "colab_type": "code",
        "colab": {}
      },
      "source": [
        "sns.lineplot(steps, expectations)"
      ],
      "execution_count": null,
      "outputs": []
    },
    {
      "cell_type": "code",
      "metadata": {
        "id": "WV-gsORWpIbU",
        "colab_type": "code",
        "colab": {}
      },
      "source": [
        "sns.lineplot(range(len(val_losses_x)), val_losses_x)"
      ],
      "execution_count": null,
      "outputs": []
    },
    {
      "cell_type": "code",
      "metadata": {
        "id": "P-NOfOO9JkxW",
        "colab_type": "code",
        "colab": {}
      },
      "source": [
        "sns.lineplot(range(len(val_losses_y)), val_losses_y)"
      ],
      "execution_count": null,
      "outputs": []
    },
    {
      "cell_type": "code",
      "metadata": {
        "id": "IEvizxJ2MfPz",
        "colab_type": "code",
        "colab": {}
      },
      "source": [
        "transformed_y_batch.std()"
      ],
      "execution_count": null,
      "outputs": []
    },
    {
      "cell_type": "code",
      "metadata": {
        "id": "gq7woNyoku6D",
        "colab_type": "code",
        "colab": {}
      },
      "source": [
        ""
      ],
      "execution_count": null,
      "outputs": []
    },
    {
      "cell_type": "code",
      "metadata": {
        "id": "ZFI_Qk1hhVtq",
        "colab_type": "code",
        "colab": {}
      },
      "source": [
        ""
      ],
      "execution_count": null,
      "outputs": []
    },
    {
      "cell_type": "code",
      "metadata": {
        "id": "eMk5m-S1JCPR",
        "colab_type": "code",
        "colab": {}
      },
      "source": [
        ""
      ],
      "execution_count": null,
      "outputs": []
    },
    {
      "cell_type": "code",
      "metadata": {
        "id": "Dke46Q39JF6j",
        "colab_type": "code",
        "colab": {}
      },
      "source": [
        ""
      ],
      "execution_count": null,
      "outputs": []
    },
    {
      "cell_type": "code",
      "metadata": {
        "id": "ZLAAQVa8JZcb",
        "colab_type": "code",
        "colab": {}
      },
      "source": [
        "print(X_c.std(),Y_c.std())"
      ],
      "execution_count": null,
      "outputs": []
    },
    {
      "cell_type": "code",
      "metadata": {
        "id": "7s25P7-8JDX7",
        "colab_type": "code",
        "colab": {}
      },
      "source": [
        "np.mean(X_c * Y_c)"
      ],
      "execution_count": null,
      "outputs": []
    },
    {
      "cell_type": "code",
      "metadata": {
        "id": "YsOhYdgFJ39U",
        "colab_type": "code",
        "colab": {}
      },
      "source": [
        "np.corrcoef(X_c, Y_c)"
      ],
      "execution_count": null,
      "outputs": []
    },
    {
      "cell_type": "code",
      "metadata": {
        "id": "GrOg5k-GLDGl",
        "colab_type": "code",
        "colab": {}
      },
      "source": [
        ""
      ],
      "execution_count": null,
      "outputs": []
    }
  ]
}